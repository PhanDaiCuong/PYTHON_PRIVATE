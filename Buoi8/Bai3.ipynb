{
 "cells": [
  {
   "cell_type": "code",
   "execution_count": 12,
   "id": "067c9bdf-6adf-4d33-ad4e-704646264fcb",
   "metadata": {},
   "outputs": [
    {
     "name": "stdout",
     "output_type": "stream",
     "text": [
      "False\n",
      "2\n",
      "None\n",
      "1\n",
      "None\n",
      "True\n"
     ]
    }
   ],
   "source": [
    "from math import *\n",
    "\n",
    "\n",
    "class MyStack:\n",
    "    def __init__(self, capacity):\n",
    "        self.capacity = capacity\n",
    "        self.dl = []\n",
    "    def isEmpty(self):\n",
    "        if len(self.dl) == 0:\n",
    "            return True\n",
    "        else:\n",
    "            return False\n",
    "    def isFull(self):\n",
    "        if len(self.dl) == self.capacity:\n",
    "            return True\n",
    "        else:\n",
    "            return False\n",
    "    def pop(self):\n",
    "        if len(self.dl)!= 0:\n",
    "            self.dl.pop()\n",
    "    def push(self, value):\n",
    "        if len(self.dl) != self.capacity:\n",
    "            self.dl.append(value)\n",
    "    def top(self):\n",
    "        if len(self.dl) != 0:\n",
    "            return self.dl[len(self.dl)-1]\n",
    "        \n",
    "\n",
    "if __name__ == '__main__':\n",
    "    stack1 = MyStack(5)\n",
    "    stack1.push(1)\n",
    "    stack1.push(2)\n",
    "    print(stack1.isFull())\n",
    "    print(stack1.top())\n",
    "    print(stack1.pop())\n",
    "    print(stack1.top())\n",
    "    print(stack1.pop())\n",
    "    print(stack1.isEmpty())"
   ]
  },
  {
   "cell_type": "code",
   "execution_count": null,
   "id": "bfab89fa-0fe4-4ec5-8ce3-b632d87e6bfa",
   "metadata": {},
   "outputs": [],
   "source": []
  }
 ],
 "metadata": {
  "kernelspec": {
   "display_name": "Python [conda env:base] *",
   "language": "python",
   "name": "conda-base-py"
  },
  "language_info": {
   "codemirror_mode": {
    "name": "ipython",
    "version": 3
   },
   "file_extension": ".py",
   "mimetype": "text/x-python",
   "name": "python",
   "nbconvert_exporter": "python",
   "pygments_lexer": "ipython3",
   "version": "3.12.7"
  }
 },
 "nbformat": 4,
 "nbformat_minor": 5
}
