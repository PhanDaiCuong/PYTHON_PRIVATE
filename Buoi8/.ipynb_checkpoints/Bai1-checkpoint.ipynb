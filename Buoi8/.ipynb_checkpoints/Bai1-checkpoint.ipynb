{
 "cells": [
  {
   "cell_type": "code",
   "execution_count": 1,
   "id": "63bb1036-e029-47b7-9f41-5dec789021b9",
   "metadata": {},
   "outputs": [
    {
     "name": "stdout",
     "output_type": "stream",
     "text": [
      ">>Name: mouse - Price: 2.5\n",
      "Identity: 9725 - Location: Vietnam\n",
      "\n",
      ">>Name: monitor - Price: 12.5\n",
      "Identity: 11 - Location: Germany\n"
     ]
    }
   ],
   "source": [
    "from math import *\n",
    "class Manufacturer:\n",
    "    def __init__(self, identity, location):\n",
    "        self.identity = identity\n",
    "        self.location = location\n",
    "    def describe(self):\n",
    "        print(\"\\nIdentity: \", self.identity, \" - Location: \" , self.location, sep = \"\")\n",
    "    \n",
    "class Device:\n",
    "    def __init__(self, name, price, identity, location):\n",
    "        self.name = name\n",
    "        self.price = price\n",
    "        self.Manufacturer = Manufacturer(identity, location)\n",
    "    def describe(self):\n",
    "        print(\">>Name: \" + self.name, \" - Price: \" , self.price, sep = '', end = '')\n",
    "        self.Manufacturer.describe()\n",
    "\n",
    "if __name__ == \"__main__\":\n",
    "    device1 = Device(name=\"mouse\", price=2.5, identity=9725, location=\"Vietnam\")\n",
    "    device1.describe()\n",
    "    print()\n",
    "    device2 = Device(name=\"monitor\", price=12.5, identity=11, location=\"Germany\")\n",
    "    device2.describe()\n"
   ]
  },
  {
   "cell_type": "code",
   "execution_count": null,
   "id": "84636fb7-27d5-43fc-ab14-0fe8ff280b89",
   "metadata": {},
   "outputs": [],
   "source": []
  }
 ],
 "metadata": {
  "kernelspec": {
   "display_name": "Python [conda env:base] *",
   "language": "python",
   "name": "conda-base-py"
  },
  "language_info": {
   "codemirror_mode": {
    "name": "ipython",
    "version": 3
   },
   "file_extension": ".py",
   "mimetype": "text/x-python",
   "name": "python",
   "nbconvert_exporter": "python",
   "pygments_lexer": "ipython3",
   "version": "3.12.7"
  }
 },
 "nbformat": 4,
 "nbformat_minor": 5
}
