{
 "cells": [
  {
   "cell_type": "code",
   "execution_count": 59,
   "id": "7caa99e1-5a66-4a46-9e00-c320950405ef",
   "metadata": {},
   "outputs": [
    {
     "name": "stdout",
     "output_type": "stream",
     "text": [
      "False\n",
      "2\n",
      "1\n",
      "True\n"
     ]
    }
   ],
   "source": [
    "from math import *\n",
    "\n",
    "\n",
    "class MyStack:\n",
    "    def __init__(self, capacity):\n",
    "        self.capacity = capacity\n",
    "        self.dl = []\n",
    "    def isEmpty(self):\n",
    "        if len(self.dl) == 0:\n",
    "            return True\n",
    "        else:\n",
    "            return False\n",
    "    def isFull(self):\n",
    "        if len(self.dl) == self.capacity:\n",
    "            return True\n",
    "        else:\n",
    "            return False\n",
    "    def pop(self):\n",
    "        if len(self.dl)!= 0:\n",
    "            self.dl.pop()\n",
    "    def push(self, value):\n",
    "        if len(self.dl) != self.capacity:\n",
    "            self.dl.append(value)\n",
    "    def top(self):\n",
    "        if len(self.dl) != 0:\n",
    "            return self.dl[len(self.dl)-1]\n",
    "        \n",
    "\n",
    "if __name__ == '__main__':\n",
    "    stack1 = MyStack(5)\n",
    "    stack1.push(1)\n",
    "    stack1.push(2)\n",
    "    print(stack1.isFull())\n",
    "    print(stack1.top())\n",
    "    stack1.pop()\n",
    "    print(stack1.top())\n",
    "    stack1.pop()\n",
    "    print(stack1.isEmpty())"
   ]
  },
  {
   "cell_type": "code",
   "execution_count": null,
   "id": "b651f639-8126-4709-8872-72bf6542ddff",
   "metadata": {},
   "outputs": [],
   "source": []
  },
  {
   "cell_type": "code",
   "execution_count": null,
   "id": "aca76238-f9e1-40c7-b970-d4c3232ff3b6",
   "metadata": {},
   "outputs": [],
   "source": []
  },
  {
   "cell_type": "code",
   "execution_count": null,
   "id": "6c4b221d-0fdf-4ef8-a106-6cd6852ef7a6",
   "metadata": {},
   "outputs": [],
   "source": []
  },
  {
   "cell_type": "code",
   "execution_count": null,
   "id": "2032a9c2-6c70-4a00-bdc3-fad957c5b33d",
   "metadata": {},
   "outputs": [],
   "source": []
  }
 ],
 "metadata": {
  "kernelspec": {
   "display_name": "Python [conda env:base] *",
   "language": "python",
   "name": "conda-base-py"
  },
  "language_info": {
   "codemirror_mode": {
    "name": "ipython",
    "version": 3
   },
   "file_extension": ".py",
   "mimetype": "text/x-python",
   "name": "python",
   "nbconvert_exporter": "python",
   "pygments_lexer": "ipython3",
   "version": "3.12.7"
  }
 },
 "nbformat": 4,
 "nbformat_minor": 5
}
