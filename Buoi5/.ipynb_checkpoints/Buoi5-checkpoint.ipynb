{
 "cells": [
  {
   "cell_type": "code",
   "execution_count": 16,
   "id": "960e00a8-6fbb-4d58-baf6-a6b3055b2c27",
   "metadata": {},
   "outputs": [
    {
     "name": "stdout",
     "output_type": "stream",
     "text": [
      "Noi dung file docker-compose sau: \n",
      "KEY   VALUE\n",
      "version 3.8\n",
      "services app\n",
      "image python:3.10-slim\n",
      "command python app.py\n",
      "volumes ./app:/app\n",
      "restart always\n",
      "ports 5000:5000\n",
      "depeneds_on db\n"
     ]
    }
   ],
   "source": [
    "d = {\n",
    "    'version' : '3.8', \n",
    "    'services' : 'app', \n",
    "    'image' : 'python:3.10-slim',\n",
    "    'command' : 'python app.py',\n",
    "    'volumes' : './app:/app',\n",
    "    'restart' : 'always',\n",
    "    'ports' : '5000:5000', \n",
    "    'depeneds_on' : 'db'\n",
    "}\n",
    "print('Noi dung file docker-compose sau: ')\n",
    "print('KEY ', ' VALUE')\n",
    "for x, y in d.items():\n",
    "    print(x, y)\n",
    "d['version'] = '3.10'\n",
    "print('Gia tri cua key image la: ', d['image'])\n",
    "d['environment'] = 'PYTHONUNBUFFERED=1'\n",
    "print('Check = ', end = '')\n",
    "if 'volumes' in d:\n",
    "    print('YES')\n",
    "else:\n",
    "    print('NO')\n",
    "if 'depends_on' in d.keys():\n",
    "    d.pop('depends_on')\n",
    "else:\n",
    "    print('Khong ton tai')\n",
    "print(len(d.keys()))\n",
    "a = list(d.values())\n",
    "print(a)\n",
    "if 'always' in d.keys():\n",
    "    print('YES')\n",
    "else:\n",
    "    print('NO')\n",
    "key, value = map(str, input().split())\n",
    "d[key] = value\n"
   ]
  },
  {
   "cell_type": "code",
   "execution_count": null,
   "id": "c3c90405-093b-4b60-8bd0-fe728552edd7",
   "metadata": {},
   "outputs": [],
   "source": []
  }
 ],
 "metadata": {
  "kernelspec": {
   "display_name": "Python [conda env:base] *",
   "language": "python",
   "name": "conda-base-py"
  },
  "language_info": {
   "codemirror_mode": {
    "name": "ipython",
    "version": 3
   },
   "file_extension": ".py",
   "mimetype": "text/x-python",
   "name": "python",
   "nbconvert_exporter": "python",
   "pygments_lexer": "ipython3",
   "version": "3.12.7"
  }
 },
 "nbformat": 4,
 "nbformat_minor": 5
}
