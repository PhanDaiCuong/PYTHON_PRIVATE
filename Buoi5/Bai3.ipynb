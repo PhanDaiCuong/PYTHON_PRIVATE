{
 "cells": [
  {
   "cell_type": "code",
   "execution_count": 2,
   "id": "ae4e281d-c327-440f-b2d7-885cc94e00c4",
   "metadata": {},
   "outputs": [],
   "source": [
    "# Nhap vao danh sach cac sinh vien gom ten va ma SV\n",
    "# bai này anh lên chạy thử trong trang chấm bài (hackkerank)\n",
    "from sys import stdin\n",
    "d = {}\n",
    "# doc cho den khi het luong nhap vao \n",
    "for x in stdin:\n",
    "    a = list(map(str, x.split(':')))\n",
    "    d[a[0]] = a[1].strip()\n",
    "res = {}\n",
    "for x, y in d.items():\n",
    "    if y in res.keys():\n",
    "        print('NONE')\n",
    "    else:\n",
    "        res[y] = x\n"
   ]
  },
  {
   "cell_type": "code",
   "execution_count": null,
   "id": "7f38a69e-d695-4d01-ba34-f92586c32f1e",
   "metadata": {},
   "outputs": [],
   "source": []
  }
 ],
 "metadata": {
  "kernelspec": {
   "display_name": "Python 3 (ipykernel)",
   "language": "python",
   "name": "python3"
  },
  "language_info": {
   "codemirror_mode": {
    "name": "ipython",
    "version": 3
   },
   "file_extension": ".py",
   "mimetype": "text/x-python",
   "name": "python",
   "nbconvert_exporter": "python",
   "pygments_lexer": "ipython3",
   "version": "3.13.0"
  }
 },
 "nbformat": 4,
 "nbformat_minor": 5
}
