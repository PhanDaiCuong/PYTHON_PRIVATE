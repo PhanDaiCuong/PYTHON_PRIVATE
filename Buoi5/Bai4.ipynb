{
 "cells": [
  {
   "cell_type": "code",
   "execution_count": 23,
   "id": "308539fc-f8d0-4981-8a32-f81d7f09ca1d",
   "metadata": {},
   "outputs": [
    {
     "name": "stdin",
     "output_type": "stream",
     "text": [
      "Nhap so luong tai khoan can lap:  3\n",
      "Nhap ma sinh vien:  1234567891\n",
      "Nhap ma sinh vien:  123456789\n"
     ]
    },
    {
     "name": "stdout",
     "output_type": "stream",
     "text": [
      "Ma sinh vien phai gom 10 chu so!\n"
     ]
    },
    {
     "name": "stdin",
     "output_type": "stream",
     "text": [
      "Nhap ma sinh vien:  1928347561\n",
      "Nhap ma sinh vien:  1357924680\n"
     ]
    },
    {
     "name": "stdout",
     "output_type": "stream",
     "text": [
      "\"Account1\" : {\n",
      "“Username”: 1234567891\n",
      "“Password”:  KTPM1234567891 \n",
      "}\n",
      "\"Account2\" : {\n",
      "“Username”: 1928347561\n",
      "“Password”:  KHMT1928347561 \n",
      "}\n",
      "\"Account3\" : {\n",
      "“Username”: 1357924680\n",
      "“Password”:  HTTT1357924680 \n",
      "}\n"
     ]
    }
   ],
   "source": [
    "from random import choice\n",
    "\n",
    "if __name__ == '__main__':\n",
    "    d = {}\n",
    "    rd = ['CNTT', 'KHMT', 'KTPM', 'HTTT', 'DAPT']\n",
    "    n = int(input('Nhap so luong tai khoan can lap: '))\n",
    "    while n != 0:\n",
    "        n -= 1\n",
    "        check = False\n",
    "        while check == False:\n",
    "            msv = input('Nhap ma sinh vien: ')\n",
    "            if len(msv) != 10:\n",
    "                print('Ma sinh vien phai gom 10 chu so!')\n",
    "            else:\n",
    "                check = True\n",
    "    \n",
    "        mk = choice(rd) + msv\n",
    "        d[msv] = mk\n",
    "    a = list(d.items())\n",
    "    \n",
    "    for i in range(len(a)):\n",
    "        print('\"Account', i+1,'\" : {',  sep = '')\n",
    "        print('“Username”:' , a[i][0])\n",
    "        print('“Password”: ', a[i][1], '\\n}')\n",
    "    "
   ]
  },
  {
   "cell_type": "code",
   "execution_count": null,
   "id": "c50c1e26-97b9-4996-b125-eeccdaf89505",
   "metadata": {},
   "outputs": [],
   "source": []
  }
 ],
 "metadata": {
  "kernelspec": {
   "display_name": "Python 3 (ipykernel)",
   "language": "python",
   "name": "python3"
  },
  "language_info": {
   "codemirror_mode": {
    "name": "ipython",
    "version": 3
   },
   "file_extension": ".py",
   "mimetype": "text/x-python",
   "name": "python",
   "nbconvert_exporter": "python",
   "pygments_lexer": "ipython3",
   "version": "3.13.0"
  }
 },
 "nbformat": 4,
 "nbformat_minor": 5
}
