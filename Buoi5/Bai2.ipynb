{
 "cells": [
  {
   "cell_type": "code",
   "execution_count": 7,
   "id": "b6654549-9ead-42e3-922e-7e7b0074c2d9",
   "metadata": {},
   "outputs": [],
   "source": [
    "# Tao ra 2 set,  trong đó 1 set chứa thông tin những bạn đã đăng ký tham gia sinhnhật lần thứ 14 của câu lạc bộ tin học HIT, set thứ 2 chứa danh sách các bạn đãcheck-in tại buổi sinh nhật.\n",
    "from functools import cmp_to_key\n",
    "s1 = {('Phan Dai Cuong', 19, 'Hai Phong'),('Nguyen Thi A', 20, 'Hai Duong'),('Nguyen Thi B', 19, 'Ha Noi')}\n",
    "s2 = {('Phan Dai Cuong', 19, 'Hai Phong'),('Nguyen Thi A', 20, 'Hai Duong')}\n"
   ]
  },
  {
   "cell_type": "code",
   "execution_count": 9,
   "id": "c1178a0c-d431-470b-a2ea-60d56757f68c",
   "metadata": {},
   "outputs": [
    {
     "name": "stdout",
     "output_type": "stream",
     "text": [
      "Danh sach cac ban chua check in la: ('Nguyen Thi B', 19, 'Ha Noi')\n"
     ]
    }
   ],
   "source": [
    "# In ra danh sach cac ban chua check in\n",
    "print('Danh sach cac ban chua check in la: ', end = '')\n",
    "for x in s1:\n",
    "    if x not in s2:\n",
    "        print(x)"
   ]
  },
  {
   "cell_type": "code",
   "execution_count": 10,
   "id": "965b2fd6-dc18-4852-8975-c3faacc1b288",
   "metadata": {},
   "outputs": [
    {
     "name": "stdout",
     "output_type": "stream",
     "text": [
      "Tong so luong da dang ki la:  3\n",
      "Tong so luong da check in la:  2\n"
     ]
    }
   ],
   "source": [
    "# Tinh toan tong so luong cac ban da dang ki va da check in \n",
    "print('Tong so luong da dang ki la: ', len(s1))\n",
    "print('Tong so luong da check in la: ', len(s2))"
   ]
  },
  {
   "cell_type": "code",
   "execution_count": 24,
   "id": "09b4a6ac-2a6a-4486-9d9c-52ee05eb28b0",
   "metadata": {},
   "outputs": [
    {
     "name": "stdout",
     "output_type": "stream",
     "text": [
      "Danh sach cac ban da dang ki sau khi sap xep theo thu tu tu dien la:  [('Nguyen Thi A', 20, 'Hai Duong'), ('Nguyen Thi B', 19, 'Ha Noi'), ('Phan Dai Cuong', 19, 'Hai Phong')]\n"
     ]
    }
   ],
   "source": [
    "# Sap sep danh sach cac ban dang ki teo ten tang dan theo thu tu tu dien\n",
    "from functools import cmp_to_key\n",
    "def cmp(a, b):\n",
    "    if a[0][len(a[0]) -1] <= b[0][len(b[0]) -1]:\n",
    "        return -1\n",
    "    else:\n",
    "        return 1\n",
    "s1 = sorted(s1, key = cmp_to_key(cmp))\n",
    "print('Danh sach cac ban da dang ki sau khi sap xep theo thu tu tu dien la: ', s1)"
   ]
  },
  {
   "cell_type": "code",
   "execution_count": null,
   "id": "4d7e37a8-af40-4d64-9cb8-81fe615ed8ab",
   "metadata": {},
   "outputs": [],
   "source": []
  }
 ],
 "metadata": {
  "kernelspec": {
   "display_name": "Python 3 (ipykernel)",
   "language": "python",
   "name": "python3"
  },
  "language_info": {
   "codemirror_mode": {
    "name": "ipython",
    "version": 3
   },
   "file_extension": ".py",
   "mimetype": "text/x-python",
   "name": "python",
   "nbconvert_exporter": "python",
   "pygments_lexer": "ipython3",
   "version": "3.13.0"
  }
 },
 "nbformat": 4,
 "nbformat_minor": 5
}
