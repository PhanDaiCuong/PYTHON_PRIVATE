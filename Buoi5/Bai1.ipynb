{
 "cells": [
  {
   "cell_type": "code",
   "execution_count": 2,
   "id": "4c324fef-1ee0-4f2a-8dea-7aa1a97bcf39",
   "metadata": {},
   "outputs": [
    {
     "name": "stdin",
     "output_type": "stream",
     "text": [
      "Nhap day so nguyen:  1 2 3 4 5 \n",
      "Nhap day xau ki tu:  phan dai cuong \n"
     ]
    }
   ],
   "source": [
    "#Nhap va 2 tuple A, B\n",
    "A = tuple(map(int,input('Nhap day so nguyen: ').split()))\n",
    "B = tuple(map(str,input('Nhap day xau ki tu: ').split()))"
   ]
  },
  {
   "cell_type": "code",
   "execution_count": 3,
   "id": "5bd955dd-c4c2-4b54-9773-32c4f519cc43",
   "metadata": {},
   "outputs": [
    {
     "name": "stdout",
     "output_type": "stream",
     "text": [
      "So luong phan tu trong A co gia tri lon hon trung binh cong cua tat car phan tu la: 2\n"
     ]
    }
   ],
   "source": [
    "# So luong phan tu trong A ma co gia tri lon hon trung binh cong cua tat ca phan tu\n",
    "\n",
    "S = sum(A)/ len(A)\n",
    "res = len([ _ for _ in A if _ > S])\n",
    "print('So luong phan tu trong A co gia tri lon hon trung binh cong cua tat car phan tu la:', res) \n"
   ]
  },
  {
   "cell_type": "code",
   "execution_count": 4,
   "id": "e8397b42-057a-498f-a0c8-67d01ea0c0ca",
   "metadata": {},
   "outputs": [
    {
     "name": "stdout",
     "output_type": "stream",
     "text": [
      "Day con gom cac so chan la:  (2, 4)\n",
      "Day con gom cac so le la:  (1, 3, 5)\n"
     ]
    }
   ],
   "source": [
    "# Chia tuple A thành hai tuple con: một chứa các số chẵn và một chứa cácsố lẻ.\n",
    "\n",
    "A1 = tuple([x for x in A if x % 2 == 0])\n",
    "A2 = tuple([x for x in A if x % 2 == 1])\n",
    "print('Day con gom cac so chan la: ', A1)\n",
    "print('Day con gom cac so le la: ', A2)"
   ]
  },
  {
   "cell_type": "code",
   "execution_count": 5,
   "id": "9c903100-3205-4216-9c4b-24fe0ef2ab23",
   "metadata": {},
   "outputs": [
    {
     "name": "stdin",
     "output_type": "stream",
     "text": [
      "Nhap va mot ki tu:  p\n"
     ]
    },
    {
     "name": "stdout",
     "output_type": "stream",
     "text": [
      "1\n"
     ]
    }
   ],
   "source": [
    "#Nhập vào bàn phím ký tự k, đếm số lần xuất hiện của k trong B\n",
    "k = input('Nhap va mot ki tu: ')\n",
    "res = 0\n",
    "for x in B:\n",
    "    res += x.count(k)\n",
    "print(res)"
   ]
  },
  {
   "cell_type": "code",
   "execution_count": 6,
   "id": "28da844b-baff-47a6-b027-ede972675f19",
   "metadata": {},
   "outputs": [
    {
     "name": "stdout",
     "output_type": "stream",
     "text": [
      "Cac xau co do dai lon hon hoac bang 5 la:  ['cuong']\n"
     ]
    }
   ],
   "source": [
    "#Tìm các phần tử trong tuple B có độ dài lớn hơn hoặc bằng 5 ký tự.\n",
    "d = [x for x in B if len(x) >= 5]\n",
    "print('Cac xau co do dai lon hon hoac bang 5 la: ', d)"
   ]
  },
  {
   "cell_type": "code",
   "execution_count": 7,
   "id": "bb163c2a-3465-406f-ae3f-5b077755f5ff",
   "metadata": {},
   "outputs": [
    {
     "name": "stdout",
     "output_type": "stream",
     "text": [
      "Xau ki tu sau khi gep cap la:  ((1, 'phan'), (2, 'dai'), (3, 'cuong'))\n"
     ]
    }
   ],
   "source": [
    "#Kết hợp tuple A và tuple B thành một tuple mới C, trong đó các phần tửtừ A và B được ghép cặp thành tuple con.\n",
    "res = tuple(zip(A, B))\n",
    "print('Xau ki tu sau khi gep cap la: ', res)"
   ]
  },
  {
   "cell_type": "code",
   "execution_count": null,
   "id": "ca17f26c-27dd-449b-ba3a-446b881f3a42",
   "metadata": {},
   "outputs": [],
   "source": []
  }
 ],
 "metadata": {
  "kernelspec": {
   "display_name": "Python 3 (ipykernel)",
   "language": "python",
   "name": "python3"
  },
  "language_info": {
   "codemirror_mode": {
    "name": "ipython",
    "version": 3
   },
   "file_extension": ".py",
   "mimetype": "text/x-python",
   "name": "python",
   "nbconvert_exporter": "python",
   "pygments_lexer": "ipython3",
   "version": "3.13.0"
  }
 },
 "nbformat": 4,
 "nbformat_minor": 5
}
